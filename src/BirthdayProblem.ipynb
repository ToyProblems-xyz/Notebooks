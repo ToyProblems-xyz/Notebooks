{
 "cells": [
  {
   "cell_type": "code",
   "execution_count": 2,
   "id": "adc36700-fe4d-4bcc-a46c-8200f1f0e4f4",
   "metadata": {},
   "outputs": [],
   "source": [
    "import numpy as np\n",
    "from math import perm \n",
    "import matplotlib.pyplot as plt\n",
    "import pandas as pd\n",
    "import os "
   ]
  },
  {
   "cell_type": "code",
   "execution_count": 3,
   "id": "4a31ecc3-7971-48b5-b55d-3dc1f7adbb9d",
   "metadata": {},
   "outputs": [],
   "source": [
    "# os.environ[\"XDG_SESSION_TYPE\"] = \"xcb\"\n",
    "\n",
    "def days_permutations(n):\n",
    "    return [perm(365, int(x)) for x in n]"
   ]
  },
  {
   "cell_type": "markdown",
   "id": "b91798d3-8acc-41bc-a121-70b199951bb2",
   "metadata": {},
   "source": [
    "This is text"
   ]
  },
  {
   "cell_type": "code",
   "execution_count": null,
   "id": "caa9e723-bcae-44e8-93b7-eaaf0d908c6e",
   "metadata": {},
   "outputs": [],
   "source": [
    "n = 100\n",
    "x = np.linspace(1, n, n) - 1\n",
    "print(x)\n",
    "num = days_permutations(x)\n",
    "print(\"Num\", num)\n",
    "denom = 365**x\n",
    "print(\"Denom\", denom)\n",
    "y = 1 - num/denom\n",
    "print(\"y\", y)\n",
    "plt.step(x, y, label=\"P(B)\")\n",
    "plt.grid()\n",
    "plt.plot([0,22],[0.5, 0.5], \"r--\")\n",
    "plt.title(\"Birthday problem\")\n",
    "plt.ylabel(\"P(B)\")\n",
    "plt.xlabel(\"Number of people\")\n",
    "plt.show()\n",
    "\n",
    "n = 1500\n",
    "x = np.linspace(1, n, n)\n",
    "y = 1 - (364/365)**x\n",
    "print(\"y\", y)\n",
    "plt.plot([0,252],[0.5, 0.5], \"r--\")\n",
    "plt.step(x, y, label=\"P(B)\")\n",
    "plt.grid()\n",
    "plt.title(\"Double birthday problem\")\n",
    "plt.ylabel(\"P(A)\")\n",
    "plt.xlabel(\"Number of people N\")\n",
    "plt.show()"
   ]
  }
 ],
 "metadata": {
  "kernelspec": {
   "display_name": "Python 3 (ipykernel)",
   "language": "python",
   "name": "python3"
  },
  "language_info": {
   "codemirror_mode": {
    "name": "ipython",
    "version": 3
   },
   "file_extension": ".py",
   "mimetype": "text/x-python",
   "name": "python",
   "nbconvert_exporter": "python",
   "pygments_lexer": "ipython3",
   "version": "3.8.17"
  }
 },
 "nbformat": 4,
 "nbformat_minor": 5
}
