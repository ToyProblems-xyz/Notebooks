{
 "cells": [
  {
   "cell_type": "code",
   "execution_count": 1,
   "id": "d53a7e5f-7abf-485e-951c-6351d9572f1e",
   "metadata": {},
   "outputs": [],
   "source": [
    "import numpy as np\n",
    "import matplotlib.pyplot as plt\n",
    "from copy import deepcopy\n",
    "from utils import annotated_heatmap"
   ]
  },
  {
   "cell_type": "markdown",
   "id": "1c68682b-76c2-4929-bfba-83eb2097a4b6",
   "metadata": {},
   "source": [
    "# Corridor environment"
   ]
  },
  {
   "cell_type": "code",
   "execution_count": 2,
   "id": "15bdabfc-c9b5-4cae-bc81-72054110a252",
   "metadata": {},
   "outputs": [],
   "source": [
    "class CorridorEnv:\n",
    "    def __init__(self, n_states=3, is_slippery = False):\n",
    "        self.nS = n_states\n",
    "        self.nA = 3\n",
    "        self.is_slippery = is_slippery\n",
    "        self.s = 0\n",
    "        self.prob = 0.75\n",
    "        self.terminal_s = self.nS-1        \n",
    "        self.model = {}\n",
    "        for s in range(self.nS):\n",
    "            self.model[s] = {}\n",
    "            for a in range(self.nA):\n",
    "                self.s = s\n",
    "                s_, dropped = self.step(a)\n",
    "                p1 = self.prob\n",
    "                p2 = 1 - self.prob\n",
    "                r = -10 if dropped else -1 \n",
    "                d = bool(s == self.terminal_s)\n",
    "                self.model[s][a] = [(p1, s_, r, d), (p2, np.int64(s), r, d)] if self.is_slippery else [(1.0, s_, r, d)]\n",
    "        \n",
    "        \n",
    "    def reset(self):\n",
    "        self.s = 0\n",
    "        \n",
    "    def step(self, a):\n",
    "        if a == 0: # LEFT\n",
    "            shift = -1\n",
    "        elif a == 1: # DON'T MOVE\n",
    "            shift = 0\n",
    "        elif a == 2:\n",
    "            shift = +1 # RIGHT\n",
    "        else:\n",
    "            raise\n",
    "\n",
    "        if self.is_slippery:\n",
    "            self.s = np.random.choice([self.s+shift, self.s], p=[self.prob, 1 - self.prob])\n",
    "        else:\n",
    "            self.s += shift\n",
    "            \n",
    "        dropped = (self.s<0 or self.s>=self.nS)\n",
    "        return np.clip(self.s, 0, self.nS-1), dropped"
   ]
  },
  {
   "cell_type": "code",
   "execution_count": 3,
   "id": "64c257f7-b43e-4ad9-9be1-7ce4b8ea39b9",
   "metadata": {},
   "outputs": [],
   "source": [
    "env = CorridorEnv(n_states=5, is_slippery=False)\n",
    "\n",
    "n_states = env.nS\n",
    "n_actions = env.nA\n",
    "P_model = env.model\n",
    "\n",
    "gamma = 1.0\n",
    "height, width = 4, 12\n",
    "\n",
    "# Random policy\n",
    "# policy = np.ones((n_states, n_actions)) / n_actions\n",
    "\n",
    "# Deterministic policy\n",
    "policy = [[0, 0, 1]]*n_states"
   ]
  },
  {
   "cell_type": "markdown",
   "id": "2e879bfc-908c-4825-a4d5-0743e69f85c6",
   "metadata": {},
   "source": [
    "# Policy Evaluation"
   ]
  },
  {
   "cell_type": "code",
   "execution_count": 4,
   "id": "7c2af32e-7edd-464e-aaff-bcfd4ead092d",
   "metadata": {},
   "outputs": [],
   "source": [
    "def bellman_update(V, pi, s, transitions):\n",
    "    value = 0\n",
    "    V = deepcopy(V)\n",
    "    for a in range(n_actions):\n",
    "        for p, s_, r, done in transitions[s][a]:\n",
    "            value += pi[s][a]*p*(r + gamma*(V[s_]))*(not done)\n",
    "    V[s] = value\n",
    "    return value\n",
    "    \n",
    "def policy_evaluation(V, policy, transitions):\n",
    "    count = 0\n",
    "    theta = 10\n",
    "    delta = np.inf\n",
    "    while delta > theta:\n",
    "        count+=1\n",
    "        delta = 0.0\n",
    "        V_prev = deepcopy(V)\n",
    "        for s in range(n_states):\n",
    "            v = bellman_update(V_prev, policy, s, transitions)\n",
    "            V[s] = v\n",
    "            delta = max(delta, abs(v - V_prev[s]))\n",
    "    return V"
   ]
  },
  {
   "cell_type": "markdown",
   "id": "01a9a36c-c366-41c0-bae8-709f9097932d",
   "metadata": {},
   "source": [
    "# Policy Improvement"
   ]
  },
  {
   "cell_type": "code",
   "execution_count": 5,
   "id": "b655aed0-57fe-455e-b86f-75a616f0eebd",
   "metadata": {},
   "outputs": [],
   "source": [
    "def argmax(q_values):\n",
    "    \"\"\"\n",
    "    Takes in a list of q_values and returns the index of the item \n",
    "    with the highest value. Breaks ties randomly.\n",
    "    returns: int - the index of the highest value in q_values\n",
    "    \"\"\"\n",
    "    top_value = float(\"-inf\")\n",
    "    ties = []\n",
    "    \n",
    "    for i in range(len(q_values)):\n",
    "        # if a value in q_values is greater than the highest value update top and reset ties to zero\n",
    "        # if a value is equal to top value add the index to ties\n",
    "        # return a random selection from ties.\n",
    "        if q_values[i] > top_value:\n",
    "            top_value = q_values[i]\n",
    "            ties = [i]\n",
    "        elif q_values[i] == top_value:\n",
    "            ties.append(i)\n",
    "    return np.random.choice(ties)\n",
    "\n",
    "def greedify_policy(V, pi, s, transitions):\n",
    "    q = np.zeros(n_actions)\n",
    "    for a in range(n_actions):\n",
    "        for p, s_, r, done in transitions[s][a]:\n",
    "            q[a] += p*(r + gamma*V[s_])*(not done)\n",
    "    a_max = argmax(q)\n",
    "    for a in range(n_actions):\n",
    "        pi[s][a] = 1.0 if a == a_max else 0.0\n",
    "\n",
    "def policy_improvement(pi, V, transitions):\n",
    "    policy_stable = True\n",
    "    for s in range(n_states):\n",
    "        old_pi = pi[s].copy()\n",
    "        greedify_policy(V, pi, s, transitions)\n",
    "        if not np.array_equal(old_pi, pi[s]):\n",
    "            policy_stable = False\n",
    "    return policy_stable        "
   ]
  },
  {
   "cell_type": "markdown",
   "id": "840e706e-5d65-40df-a24c-80e44be5dd3f",
   "metadata": {},
   "source": [
    "# Policy Iteration"
   ]
  },
  {
   "cell_type": "code",
   "execution_count": 6,
   "id": "7d44fe0b-3745-4a8d-8b6d-41f59ef42a2d",
   "metadata": {},
   "outputs": [],
   "source": [
    "def policy_iteration():\n",
    "    V = np.zeros(n_states)\n",
    "    pi = [np.ones(n_actions)/n_actions]*n_states # Set the policy to a uniform distribution\n",
    "    # pi = policy\n",
    "    policy_converged = False\n",
    "    while not policy_converged:\n",
    "        V = policy_evaluation(V, pi, P_model)\n",
    "        policy_converged = policy_improvement(pi, V, P_model)\n",
    "    return V, pi"
   ]
  },
  {
   "cell_type": "code",
   "execution_count": 12,
   "id": "d890ead6-dfb8-4cf5-9abb-47a6ad87fb5a",
   "metadata": {},
   "outputs": [
    {
     "data": {
      "image/png": "[encoded data removed]",
      "text/plain": [
       "<Figure size 640x480 with 1 Axes>"
      ]
     },
     "metadata": {},
     "output_type": "display_data"
    },
    {
     "name": "stdout",
     "output_type": "stream",
     "text": [
      "Optimal policy\n",
      "s0: [0. 0. 1.]\n",
      "s1: [0. 0. 1.]\n",
      "s2: [0. 0. 1.]\n",
      "s3: [0. 0. 1.]\n",
      "s4: [0. 0. 1.]\n"
     ]
    }
   ],
   "source": [
    "V, pi = policy_iteration()\n",
    "annotated_heatmap([V], \"Optimal value\")\n",
    "print(\"Optimal policy\")\n",
    "for s, actions in enumerate(pi):\n",
    "    print(\"s\"+str(s)+\":\", actions)"
   ]
  },
  {
   "cell_type": "markdown",
   "id": "366842d9-8307-4f1e-899f-ef668cb93c07",
   "metadata": {},
   "source": [
    "# Value Iteration"
   ]
  },
  {
   "cell_type": "code",
   "execution_count": 8,
   "id": "4dec003e-0324-4489-8811-14f0d029f7b8",
   "metadata": {},
   "outputs": [],
   "source": [
    "def value_iteration():\n",
    "    a = env.action_space.sample()\n",
    "    Q = np.zeros((n_states, n_actions))\n",
    "    for s in env.observation_space:\n",
    "        delta = np.inf\n",
    "        while delta > 0.01:\n",
    "            s_new, r, terminated, truncated, info = env.step(a)\n",
    "            delta = bellman_update(Q, s, a, r, s_new)\n",
    "            greedify_policy(q, pi, s)"
   ]
  },
  {
   "cell_type": "code",
   "execution_count": 9,
   "id": "4d120919-18ef-4b1b-85f2-94be3eb06b53",
   "metadata": {},
   "outputs": [
    {
     "ename": "AttributeError",
     "evalue": "'CorridorEnv' object has no attribute 'action_space'",
     "output_type": "error",
     "traceback": [
      "\u001b[0;31m---------------------------------------------------------------------------\u001b[0m",
      "\u001b[0;31mAttributeError\u001b[0m                            Traceback (most recent call last)",
      "Cell \u001b[0;32mIn[9], line 1\u001b[0m\n\u001b[0;32m----> 1\u001b[0m \u001b[43mvalue_iteration\u001b[49m\u001b[43m(\u001b[49m\u001b[43m)\u001b[49m\n",
      "Cell \u001b[0;32mIn[8], line 2\u001b[0m, in \u001b[0;36mvalue_iteration\u001b[0;34m()\u001b[0m\n\u001b[1;32m      1\u001b[0m \u001b[38;5;28;01mdef\u001b[39;00m\u001b[38;5;250m \u001b[39m\u001b[38;5;21mvalue_iteration\u001b[39m():\n\u001b[0;32m----> 2\u001b[0m     a \u001b[38;5;241m=\u001b[39m \u001b[43menv\u001b[49m\u001b[38;5;241;43m.\u001b[39;49m\u001b[43maction_space\u001b[49m\u001b[38;5;241m.\u001b[39msample()\n\u001b[1;32m      3\u001b[0m     Q \u001b[38;5;241m=\u001b[39m np\u001b[38;5;241m.\u001b[39mzeros((n_states, n_actions))\n\u001b[1;32m      4\u001b[0m     \u001b[38;5;28;01mfor\u001b[39;00m s \u001b[38;5;129;01min\u001b[39;00m env\u001b[38;5;241m.\u001b[39mobservation_space:\n",
      "\u001b[0;31mAttributeError\u001b[0m: 'CorridorEnv' object has no attribute 'action_space'"
     ]
    }
   ],
   "source": [
    "value_iteration()"
   ]
  },
  {
   "cell_type": "code",
   "execution_count": null,
   "id": "1cdf33db-edda-4dc5-a70b-a498b404f4d2",
   "metadata": {},
   "outputs": [],
   "source": []
  }
 ],
 "metadata": {
  "kernelspec": {
   "display_name": "Python 3 (ipykernel)",
   "language": "python",
   "name": "python3"
  },
  "language_info": {
   "codemirror_mode": {
    "name": "ipython",
    "version": 3
   },
   "file_extension": ".py",
   "mimetype": "text/x-python",
   "name": "python",
   "nbconvert_exporter": "python",
   "pygments_lexer": "ipython3",
   "version": "3.8.17"
  }
 },
 "nbformat": 4,
 "nbformat_minor": 5
}
